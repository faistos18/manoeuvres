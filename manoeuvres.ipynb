{
 "cells": [
  {
   "cell_type": "markdown",
   "metadata": {},
   "source": [
    "# Trouver les bonnes manoeuvres pour arriver à un endroit donné avec un angle donné\n",
    "\n",
    "![alt text](logo.png \"Title\")\n",
    "\n",
    "Avec du A* (algorithme de recherche dans un arbre), et une heuristique qui prends la plus grande de ces deux deux bornes comme distance minimale restant à parcourir :\n",
    " - Il reste à parcourir au moins la distance qui nous sépare du point objectif\n",
    " - Il reste à parcourir au moins la distance qui, avec le rayon de braquage donné, permet de faire la différence d'angle voulue\n",
    "\n",
    "Le  robot part du point 0,0, avec un angle 0 (axe des x), et veut aller à un autre PointAngle.\n",
    "Je veux tout passer le plus possible en fonction, le moins possible en paramètres globaux\n",
    "\n",
    "D'abord, les fonctions élémentaires pour faire les manoeuvres :"
   ]
  },
  {
   "cell_type": "code",
   "execution_count": 1,
   "metadata": {},
   "outputs": [],
   "source": [
    "import math\n",
    "\n",
    "def rotation(x,y,xo,yo,theta): #rotate x,y around xo,yo by theta (rad)\n",
    "    xr=math.cos(theta)*(x-xo)-math.sin(theta)*(y-yo)   + xo\n",
    "    yr=math.sin(theta)*(x-xo)+math.cos(theta)*(y-yo)  + yo\n",
    "    return  (xr, yr)"
   ]
  },
  {
   "cell_type": "code",
   "execution_count": 2,
   "metadata": {},
   "outputs": [
    {
     "name": "stdout",
     "output_type": "stream",
     "text": [
      "(1.2246467991473532e-16, 2.0)\n",
      "(6.0, 3.3306690738754696e-16)\n",
      "(0.0, 2.0)\n",
      "(0.9999999999999999, 0.0)\n"
     ]
    }
   ],
   "source": [
    "# des tests\n",
    "print(rotation(0,0,0,1,math.pi))\n",
    "print(rotation(0,2,3,1,-math.pi))\n",
    "print(rotation(0,2,0,2, math.pi/4))\n",
    "print(rotation(-1,0,0,1,math.pi/2))"
   ]
  },
  {
   "cell_type": "code",
   "execution_count": 3,
   "metadata": {},
   "outputs": [],
   "source": [
    "# en français pour Xavier !\n",
    "\n",
    "import math\n",
    "\n",
    "AVANCE = 0\n",
    "RECULE = 1\n",
    "AVANT_DROIT = 2\n",
    "AVANT_GAUCHE = 3\n",
    "ARRIERE_DROIT = 4\n",
    "ARRIERE_GAUCHE = 5\n",
    "STARTING = 6\n",
    "\n",
    "MANOEUVRES_TEXTE = [\"AVANCE\",\"RECULE\",\"AVANT_DROIT\",\"AVANT_GAUCHE\",\"ARRIERE_DROIT\",\"ARRIERE_GAUCHE\",\"STARTING\"]\n",
    "COULEURS = ['tab:blue', 'tab:orange', \"tab:green\", 'tab:red', 'tab:purple', 'tab:brown', 'k'] # couleurs des flèches\n",
    "\n",
    "# pour fonction \"tresProche\". Si < epsilon, les points sont considérés comme étant confondus\n",
    "epsilonMetres = 0.05\n",
    "epsilonRad = 0.08726646259971647    # 5 degrés\n",
    "\n",
    "\n",
    "class PointAngle:\n",
    "    # k => noir\n",
    "    def __init__(self, x, y, angleRad, distanceParcourue = 0, pere = None, couleur = STARTING):\n",
    "        self.x = x\n",
    "        self.y = y\n",
    "        if angleRad <= -math.pi:\n",
    "            self.angleRad = angleRad + 2.0*math.pi\n",
    "        elif angleRad > math.pi:\n",
    "            self.angleRad = angleRad - 2.0 * math.pi\n",
    "        else:\n",
    "            self.angleRad = angleRad\n",
    "        self.distanceParcourue = distanceParcourue\n",
    "        self.pere = pere\n",
    "        self.couleur = couleur\n",
    "        self.estimation = 0  # renseignée par l'algo A*\n",
    "    def __str__(self):\n",
    "        return 'x : ' + str(self.x) + ', y : ' + str(self.y) + ', angle : ' + str(self.angleRad * 180/math.pi) + 'deg'\n",
    "\n",
    "    def vecteurAngle(self):\n",
    "        return (math.cos(self.angleRad), math.sin(self.angleRad))\n",
    "\n",
    "    def vecteurAngleDroite(self):\n",
    "        v = self.vecteurAngle()\n",
    "        return (v[1], -v[0])\n",
    "\n",
    "    def vecteurAngleGauche(self):\n",
    "        v = self.vecteurAngle()\n",
    "        return (-v[1], v[0])\n",
    "\n",
    "    def avance(self, pas):\n",
    "        xFils = self.x + self.vecteurAngle()[0] * pas\n",
    "        yFils = self.y + self.vecteurAngle()[1] * pas\n",
    "        return PointAngle(xFils, yFils, self.angleRad, self.distanceParcourue + pas, self, AVANCE)\n",
    "    \n",
    "    def recule(self, pas):\n",
    "        xFils = self.x - self.vecteurAngle()[0] * pas\n",
    "        yFils = self.y - self.vecteurAngle()[1] * pas\n",
    "        return PointAngle(xFils, yFils, self.angleRad, self.distanceParcourue + pas, self, RECULE)\n",
    "\n",
    "    def avantDroit(self, pas, rayonBraquage):\n",
    "        angleRotation = - pas / rayonBraquage # vers ma droite => sens horaire => anti sens trigo\n",
    "        # droite : x,y => y, -x\n",
    "        vecteurAngleDroite = self.vecteurAngleDroite()\n",
    "        xCentre = self.x + rayonBraquage * vecteurAngleDroite[0]\n",
    "        yCentre = self.y + rayonBraquage * vecteurAngleDroite[1]\n",
    "        position = rotation(self.x, self.y, xCentre, yCentre, angleRotation)\n",
    "        return PointAngle(position[0], position[1], self.angleRad + angleRotation, self.distanceParcourue + pas, self, AVANT_DROIT)\n",
    "    \n",
    "    def avantGauche(self, pas, rayonBraquage):\n",
    "        angleRotation = pas / rayonBraquage # vers ma gauche => trigo\n",
    "        # droite : x,y => y, -x\n",
    "        vecteurAngle = self.vecteurAngleGauche()\n",
    "        xCentre = self.x + rayonBraquage * vecteurAngle[0]\n",
    "        yCentre = self.y + rayonBraquage * vecteurAngle[1]\n",
    "        position = rotation(self.x, self.y, xCentre, yCentre, angleRotation)\n",
    "        return PointAngle(position[0], position[1], self.angleRad + angleRotation, self.distanceParcourue + pas, self, AVANT_GAUCHE)\n",
    "\n",
    "        \n",
    "    def arriereDroit(self, pas, rayonBraquage):\n",
    "        angleRotation = pas / rayonBraquage # vers ma droite => sens horaire => anti sens trigo\n",
    "        # droite : x,y => y, -x\n",
    "        vecteurAngleDroite = self.vecteurAngleDroite()\n",
    "        xCentre = self.x + rayonBraquage * vecteurAngleDroite[0]\n",
    "        yCentre = self.y + rayonBraquage * vecteurAngleDroite[1]\n",
    "        position = rotation(self.x, self.y, xCentre, yCentre, angleRotation)\n",
    "        return PointAngle(position[0], position[1], self.angleRad + angleRotation, self.distanceParcourue + pas, self, ARRIERE_DROIT)\n",
    "\n",
    "    def arriereGauche(self, pas, rayonBraquage):\n",
    "        angleRotation = - pas / rayonBraquage\n",
    "        # droite : x,y => y, -x\n",
    "        vecteurAngle = self.vecteurAngleGauche()\n",
    "        xCentre = self.x + rayonBraquage * vecteurAngle[0]\n",
    "        yCentre = self.y + rayonBraquage * vecteurAngle[1]\n",
    "        position = rotation(self.x, self.y, xCentre, yCentre, angleRotation)\n",
    "        return PointAngle(position[0], position[1], self.angleRad + angleRotation, self.distanceParcourue + pas, self, ARRIERE_GAUCHE)\n",
    "    \n",
    "    def bouge(self, mouvement, pas, rayonBraquage, nombreDeFois = 1):\n",
    "        if mouvement == AVANCE:\n",
    "            resultat = self.avance(pas) \n",
    "        elif mouvement == RECULE:\n",
    "            resultat = self.recule( pas)\n",
    "        elif mouvement == AVANT_DROIT:\n",
    "            resultat = self.avantDroit(pas, rayonBraquage)\n",
    "        elif mouvement == AVANT_GAUCHE:\n",
    "            resultat = self.avantGauche(pas, rayonBraquage)\n",
    "        elif mouvement == ARRIERE_DROIT:\n",
    "            resultat = self.arriereDroit(pas, rayonBraquage)\n",
    "        elif mouvement == ARRIERE_GAUCHE:\n",
    "            resultat = self.arriereGauche(pas, rayonBraquage)\n",
    "        else:\n",
    "            raise \"mouvement inconnu\"\n",
    "        if nombreDeFois == 1:\n",
    "            return resultat\n",
    "        else:\n",
    "            return resultat.bouge(mouvement, pas, rayonBraquage, nombreDeFois - 1)\n",
    "    \n",
    "    @staticmethod\n",
    "    def mouvements():\n",
    "        return (AVANCE,RECULE,AVANT_DROIT,AVANT_GAUCHE,ARRIERE_DROIT,ARRIERE_GAUCHE,)\n",
    "    \n",
    "    def couleurTexte(self):\n",
    "        return COULEURS[self.couleur]\n",
    "    \n",
    "    def tresProche(self, p2):\n",
    "        return abs(self.x - p2.x) < epsilonMetres and abs(self.y - p2.y) < epsilonMetres and abs(self.angleRad - p2.angleRad) < epsilonRad\n",
    "\n"
   ]
  },
  {
   "cell_type": "markdown",
   "metadata": {},
   "source": [
    "# Test des mouvements\n",
    "\n",
    "Je fais plusieurs manoeuvres d'affilée pour chaque mouvement, pour voir où ça arrive. La flèche est dans le sens de l'orientation du robot.\n",
    "La couleur est différente pour chaque manoeuvre. Noir = position de départ"
   ]
  },
  {
   "cell_type": "code",
   "execution_count": 5,
   "metadata": {},
   "outputs": [
    {
     "name": "stdout",
     "output_type": "stream",
     "text": [
      "pointAngle final pour mouvement AVANCE\n",
      "2.500000000000001 0.0 0.0 2.500000000000001\n",
      "pointAngle final pour mouvement RECULE\n",
      "-2.500000000000001 0.0 0.0 2.500000000000001\n",
      "pointAngle final pour mouvement AVANT_DROIT\n",
      "1.838556977300278 -1.4207211237489599 -75.38918356984517 2.500000000000001\n",
      "pointAngle final pour mouvement AVANT_GAUCHE\n",
      "1.838556977300278 1.4207211237489599 75.38918356984517 2.500000000000001\n",
      "pointAngle final pour mouvement ARRIERE_DROIT\n",
      "-1.838556977300278 -1.4207211237489599 75.38918356984517 2.500000000000001\n",
      "pointAngle final pour mouvement ARRIERE_GAUCHE\n",
      "-1.838556977300278 1.4207211237489599 -75.38918356984517 2.500000000000001\n"
     ]
    },
    {
     "data": {
      "text/plain": [
       "<matplotlib.quiver.Quiver at 0x2c5d741d288>"
      ]
     },
     "execution_count": 5,
     "metadata": {},
     "output_type": "execute_result"
    },
    {
     "data": {
      "image/png": "[encoded data removed]",
      "text/plain": [
       "<Figure size 864x864 with 1 Axes>"
      ]
     },
     "metadata": {
      "needs_background": "light"
     },
     "output_type": "display_data"
    }
   ],
   "source": [
    "start = PointAngle(0,0,0)\n",
    "pas = 0.1\n",
    "rayonBraquage = 1.90\n",
    "mouvements = PointAngle.mouvements()\n",
    "\n",
    "pointsParMouvement = []\n",
    "for mouvement in mouvements:\n",
    "    plusieursMouvements = [start]\n",
    "    for i in range(25):\n",
    "        plusieursMouvements.append(plusieursMouvements[-1].bouge(mouvement, pas, rayonBraquage))\n",
    "    print(\"pointAngle final pour mouvement \" + MANOEUVRES_TEXTE[mouvement])\n",
    "    dernier = plusieursMouvements[-1]\n",
    "    print(dernier.x, dernier.y, dernier.angleRad * 180/math.pi, dernier.distanceParcourue)\n",
    "    pointsParMouvement.append(plusieursMouvements)\n",
    "    \n",
    "import matplotlib.pyplot as plt\n",
    "import numpy as np\n",
    "\n",
    "pltX = []\n",
    "pltY = []\n",
    "pltU = []\n",
    "pltV = []\n",
    "pltCouleur = []\n",
    "\n",
    "for (i, points) in enumerate(pointsParMouvement):\n",
    "    for point in points:\n",
    "        pltX.append(point.x)\n",
    "        pltY.append(point.y)\n",
    "        pltU.append(point.vecteurAngle()[0])\n",
    "        pltV.append(point.vecteurAngle()[1])\n",
    "        pltCouleur.append(point.couleurTexte() )\n",
    "\n",
    "plt.figure(figsize=(12,12))\n",
    "plt.gca().set_aspect('equal', adjustable='box')\n",
    "plt.quiver(np.array(pltX), np.array(pltY), np.array(pltU), np.array(pltV), color = pltCouleur, width=0.003, )"
   ]
  },
  {
   "cell_type": "code",
   "execution_count": null,
   "metadata": {},
   "outputs": [],
   "source": []
  },
  {
   "cell_type": "markdown",
   "metadata": {},
   "source": [
    "# Algorithme A* avec les fonctions associées"
   ]
  },
  {
   "cell_type": "code",
   "execution_count": 6,
   "metadata": {},
   "outputs": [],
   "source": [
    "# l'objectif est un carré, pas un cercle. Plus rapide à calculer si atteinte ou pas\n",
    "\n",
    "def butAtteint(pointAngle, butPointAngle, toleranceXY, toleranceAngle):\n",
    "    return (\n",
    "    abs(pointAngle.x - butPointAngle.x) < toleranceXY \n",
    "and abs(pointAngle.y - butPointAngle.y) < toleranceXY\n",
    "and diffAngle(pointAngle.angleRad, butPointAngle.angleRad) < toleranceAngle)\n",
    "\n",
    "def distance(pa1, pa2):\n",
    "    return ((pa1.x - pa2.x)**2 + (pa1.y - pa2.y)**2)**0.5\n",
    "\n",
    "def distanceCarre(pa1, pa2):\n",
    "    return (pa1.x - pa2.x)**2 + (pa1.y - pa2.y)**2\n",
    "\n",
    "def diffAngle(a1, a2):\n",
    "    a = a2 - a1\n",
    "    if a > math.pi:\n",
    "        a -= 2*math.pi\n",
    "    elif a <= - math.pi:\n",
    "        a += 2*math.pi\n",
    "    return abs(a)\n",
    "\n",
    "# https://stackoverflow.com/questions/1878907/the-smallest-difference-between-2-angles\n",
    "def heuristiqueAngle(pointAngle, butPointAngle, rayonBraquage):\n",
    "    # si je veux faire 2pi (un tour) et que mon rayon de braquage c'est 12,\n",
    "    # alors je devrais faire le tour du cercle pour tourner, donc 2pi * 12\n",
    "    # si je veux tourner de x radians, alors la distance c'est    x * rayonDeBraquage\n",
    "    return rayonBraquage * diffAngle(pointAngle.angleRad, butPointAngle.angleRad)\n",
    "\n",
    "\n",
    "def heuristique(pointAngle, butPointAngle, rayonBraquage, toleranceAngle = 0):\n",
    "    return max(distance(pointAngle, butPointAngle), heuristiqueAngle(pointAngle, butPointAngle, rayonBraquage) )\n",
    "\n",
    "\n",
    "def meilleurCandidat(pointsAChercher, butPointAngle, rayonBraquage, toleranceAngle, fonctionHeuristique):\n",
    "    # on sélectionne d'abord le pointAngle qui a la somme (distance déjà parcourue + estimation distance restante) la plus faible\n",
    "    meilleureEstimation = 100000\n",
    "    meilleurCandidat = None\n",
    "    for pa in pointsAChercher :\n",
    "        if pa.estimation != 0:\n",
    "            estimation = pa.estimation\n",
    "        else:\n",
    "            estimation = pa.distanceParcourue + fonctionHeuristique(pa, butPointAngle, rayonBraquage, toleranceAngle)\n",
    "            if pa.pere != None:\n",
    "                # on empeche que l'heuristique diminue\n",
    "                # j'aurai le max de tous mes ancetres.\n",
    "                # si un de mes ancetre dit \"tu fera pas mieux que 12\" et j'estime que je ferai pas mieux que 10\n",
    "                # je ferai quand même pas mieux que 12\n",
    "                pa.estimation = max(estimation, pa.pere.estimation) \n",
    "        \n",
    "        if estimation < meilleureEstimation:\n",
    "            meilleureEstimation = estimation\n",
    "            meilleurCandidat = pa\n",
    "    return meilleurCandidat\n",
    "\n",
    "\n",
    "\n",
    "def chercherMeilleureManoeuvre(butPointAngle,\n",
    "                               fonctionButAtteint = butAtteint,\n",
    "                               fonctionHeuristique = heuristique, \n",
    "                               pas = 0.3,\n",
    "                               rayonBraquage = 1.90,\n",
    "                               toleranceXY = pas * 1.4,\n",
    "                               toleranceAngle = 30/180*math.pi,\n",
    "                               limite = None,\n",
    "                               log = False):\n",
    "    pointsDejaCherchés = set()\n",
    "    \n",
    "    pointsAChercher = { PointAngle(0,0,0) }\n",
    "    \n",
    "    temps = 0 # pour savoir ce qui prends du temps, pas important pour l'algo\n",
    "    \n",
    "    nombre_iterations = 0\n",
    "    \n",
    "    while limite == None or nombre_iterations < limite:\n",
    "        candidat = meilleurCandidat(pointsAChercher, butPointAngle, rayonBraquage, toleranceAngle, fonctionHeuristique)\n",
    "\n",
    "        pointsAChercher.remove(candidat) # virer le candidat du set\n",
    "\n",
    "        successeurs = [candidat.bouge(mouvement, pas, rayonBraquage) for mouvement in PointAngle.mouvements()]\n",
    "\n",
    "        # on ajoute aussi les versions \"nombreDeFois = 5\", pour accélerer la recherche avec des \"raccourcis\" dans l'arbre\n",
    "        #successeurs.extend([candidat.bouge(mouvement, pas, rayonBraquage, 5) for mouvement in PointAngle.mouvements()])\n",
    "        \n",
    "        for successeur in successeurs:\n",
    "            if fonctionButAtteint(successeur, butPointAngle, toleranceXY, toleranceAngle):\n",
    "                print(\"trouvé !\")\n",
    "                return (successeur, nombre_iterations, pointsAChercher, pointsDejaCherchés, temps)\n",
    "            else:\n",
    "                mieuxDejaCherché = False\n",
    "                debut = time.time()\n",
    "                for dejaCherché in pointsDejaCherchés:\n",
    "                    if successeur.tresProche(dejaCherché) and dejaCherché.distanceParcourue <= successeur.distanceParcourue:\n",
    "                        mieuxDejaCherché = True\n",
    "                        break\n",
    "                if mieuxDejaCherché:\n",
    "                    temps += (time.time() - debut)\n",
    "                    if log: print('mieuxDejaCherché')\n",
    "                else:\n",
    "                    mieuxAChercher = False\n",
    "                    for aChercher in pointsAChercher:\n",
    "                        if successeur.tresProche(aChercher) and aChercher.distanceParcourue <= successeur.distanceParcourue:\n",
    "                            mieuxAChercher = True\n",
    "                            break\n",
    "                    if mieuxAChercher:\n",
    "                        temps += (time.time() - debut)\n",
    "                        if log: print('mieuxAChercher')\n",
    "                    else:\n",
    "                        if log: print('bon candidat')\n",
    "                        temps += (time.time() - debut)\n",
    "                        pointsAChercher.add(successeur)\n",
    "\n",
    "        pointsDejaCherchés.add(candidat)\n",
    "        nombre_iterations += 1\n",
    "    print(\"limite atteinte\")\n",
    "    return (None, nombre_iterations, pointsAChercher, pointsDejaCherchés, temps)"
   ]
  },
  {
   "cell_type": "code",
   "execution_count": 7,
   "metadata": {},
   "outputs": [],
   "source": [
    "\n",
    "import matplotlib.pyplot as plt\n",
    "import numpy as np\n",
    "\n",
    "\n",
    "def afficherResultat(res, plusieurs = False):\n",
    "\n",
    "    pltX = []\n",
    "    pltY = []\n",
    "    pltU = []\n",
    "    pltV = []\n",
    "    pltCouleur = []\n",
    "    pltX.append(res.x)\n",
    "    pltY.append(res.y)\n",
    "    pltU.append(res.vecteurAngle()[0])\n",
    "    pltV.append(res.vecteurAngle()[1])\n",
    "    pltCouleur.append(res.couleurTexte())\n",
    "    while res.pere != None:\n",
    "        res = res.pere\n",
    "        pltX.append(res.x)\n",
    "        pltY.append(res.y)\n",
    "        pltU.append(res.vecteurAngle()[0])\n",
    "        pltV.append(res.vecteurAngle()[1])\n",
    "        pltCouleur.append(res.couleurTexte())\n",
    "    \n",
    "    if not plusieurs:\n",
    "        plt.figure(figsize=(15,15))\n",
    "        plt.gca().set_aspect('equal', adjustable='box')\n",
    "    plt.quiver(np.array(pltX), np.array(pltY), np.array(pltU), np.array(pltV), color = pltCouleur, width=0.003, )\n",
    "    plt.show()"
   ]
  },
  {
   "cell_type": "markdown",
   "metadata": {},
   "source": [
    "# Test de l'algorithme avec un PointAngle"
   ]
  },
  {
   "cell_type": "code",
   "execution_count": 8,
   "metadata": {},
   "outputs": [
    {
     "name": "stdout",
     "output_type": "stream",
     "text": [
      "trouvé !\n",
      "9\n",
      "0.0\n",
      "temps par iteration 0.0 ms\n",
      "0.0\n",
      "temps verification par iteration 0.0 ms\n",
      "x : -2.0950200621493016, y : 0.09454018390207608, angle : 0.0deg\n"
     ]
    },
    {
     "data": {
      "image/png": "[encoded data removed]",
      "text/plain": [
       "<Figure size 1080x1080 with 1 Axes>"
      ]
     },
     "metadata": {
      "needs_background": "light"
     },
     "output_type": "display_data"
    }
   ],
   "source": [
    "import time as time\n",
    "\n",
    "debut = time.time()\n",
    "(resultat, nombre_iterations, pointsAChercher, pointsDejaCherchés, temps) = chercherMeilleureManoeuvre(PointAngle(-2.0, 0.1, 0),\n",
    "                               fonctionButAtteint = butAtteint,\n",
    "                               fonctionHeuristique = heuristique, \n",
    "                               pas = 0.3,\n",
    "                               rayonBraquage = 1.90,\n",
    "                               toleranceXY = pas * 1.4,\n",
    "                               toleranceAngle = 20/180*math.pi,\n",
    "                               limite = 2000,\n",
    "                               log = False)\n",
    "fin = time.time()\n",
    "\n",
    "print(nombre_iterations)\n",
    "print( fin -debut)\n",
    "print(\"temps par iteration \" + str(  (fin - debut) / nombre_iterations * 1000) + \" ms\")\n",
    "print(temps)\n",
    "print(\"temps verification par iteration \" + str(  temps / nombre_iterations * 1000) + \" ms\")\n",
    "if resultat != None:\n",
    "    print(resultat)\n",
    "    afficherResultat(resultat)\n",
    "else:\n",
    "    plt.figure(figsize=(10,10))\n",
    "    plt.gca().set_aspect('equal', adjustable='box')\n",
    "    for pa in pointsDejaCherchés:\n",
    "        afficherResultat(pa, plusieurs = True)"
   ]
  },
  {
   "cell_type": "code",
   "execution_count": 9,
   "metadata": {},
   "outputs": [
    {
     "data": {
      "text/plain": [
       "[('RECULE', 0.3),\n",
       " ('ARRIERE_GAUCHE', 0.3),\n",
       " ('ARRIERE_DROIT', 0.3),\n",
       " ('RECULE', 0.3),\n",
       " ('ARRIERE_GAUCHE', 0.3),\n",
       " ('ARRIERE_DROIT', 0.3),\n",
       " ('RECULE', 0.3)]"
      ]
     },
     "execution_count": 9,
     "metadata": {},
     "output_type": "execute_result"
    }
   ],
   "source": [
    "\n",
    "def resumerManoeuvres(resultat):\n",
    "    chaineDesPeres = []\n",
    "    \n",
    "    ancetre = resultat\n",
    "    while ancetre.pere != None:\n",
    "        chaineDesPeres.append(ancetre)\n",
    "        ancetre = ancetre.pere\n",
    "    # les vieux d'abord !\n",
    "    chaineDesPeres.reverse()\n",
    "    # pas = pere.distanceParcourue\n",
    "    # list des manoeuvres avec (manoeuvre, distanceParcourue)\n",
    "    chaineManoeuvres = [ (MANOEUVRES_TEXTE[chaineDesPeres[0].couleur], chaineDesPeres[0].distanceParcourue)]\n",
    "    ancienneDistanceParcourue = chaineDesPeres[0].distanceParcourue\n",
    "    chaineDesPeres.pop(0)\n",
    "    \n",
    "    for noeud in chaineDesPeres:\n",
    "        pas = noeud.distanceParcourue - ancienneDistanceParcourue\n",
    "        ancienneDistanceParcourue = noeud.distanceParcourue\n",
    "        if chaineManoeuvres[-1][0] == MANOEUVRES_TEXTE[noeud.couleur]:\n",
    "            chaineManoeuvres[-1] = (MANOEUVRES_TEXTE[noeud.couleur], round( (chaineManoeuvres[-1][1] + pas)*10000) / 10000 )\n",
    "        else:\n",
    "            chaineManoeuvres.append( (MANOEUVRES_TEXTE[noeud.couleur], round( pas * 10000) / 10000) )\n",
    "    return chaineManoeuvres\n",
    "\n",
    "resumerManoeuvres(resultat)"
   ]
  },
  {
   "cell_type": "markdown",
   "metadata": {},
   "source": []
  },
  {
   "cell_type": "code",
   "execution_count": null,
   "metadata": {},
   "outputs": [],
   "source": []
  },
  {
   "cell_type": "markdown",
   "metadata": {},
   "source": [
    "# Générer une solution pour tout les points du plan, tout les angles"
   ]
  },
  {
   "cell_type": "code",
   "execution_count": 20,
   "metadata": {},
   "outputs": [],
   "source": [
    "\n",
    "%matplotlib inline\n",
    "\n",
    "def genererSolutionSurGrille(xMin, xMax, yMin, yMax, pasX, pasY, pasAngle):\n",
    "    \n",
    "    resumes = dict()\n",
    "    x = xMin\n",
    "    while x <= xMax:\n",
    "        y = yMin\n",
    "        while y <= yMax:\n",
    "            angle = 0\n",
    "            while angle < 2*math.pi:\n",
    "                print(\"x : \" + str(x) + \", y : \" + str(y) + \", angle : \" + str(angle * 180/math.pi) )\n",
    "                (resultat, nombre_iterations, pointsAChercher, pointsDejaCherchés, temps) = chercherMeilleureManoeuvre(\n",
    "                    PointAngle(x, y, angle),\n",
    "                    fonctionButAtteint = butAtteint,\n",
    "                    fonctionHeuristique = heuristiqueMeilleureDistanceInaccessible, \n",
    "                    pas = 0.25,\n",
    "                    rayonBraquage = 1.90,\n",
    "                    toleranceXY = pas * 1.2,\n",
    "                    toleranceAngle = 20/180*math.pi,\n",
    "                    limite = 3000,\n",
    "                    log = False)\n",
    "                if resultat != None:\n",
    "                    #print(\"affichage\")\n",
    "                    afficherResultat(resultat)\n",
    "                    resume = resumerManoeuvres(resultat)\n",
    "                    print(resume)\n",
    "                    texteBut = str(round(x*10000)/10000) + ', '+str(round(y*10000)/10000)+ ' ,' + str(round(angle *180.0/math.pi))\n",
    "                    resumes[texteBut] = resume\n",
    "                    #print(resumes)\n",
    "                else:\n",
    "                    print(\"pas de résultat assez rapide\")\n",
    "                angle += pasAngle\n",
    "            y += pasY\n",
    "        x += pasX\n",
    "    return resumes"
   ]
  },
  {
   "cell_type": "code",
   "execution_count": null,
   "metadata": {},
   "outputs": [],
   "source": []
  },
  {
   "cell_type": "code",
   "execution_count": 21,
   "metadata": {},
   "outputs": [
    {
     "name": "stdout",
     "output_type": "stream",
     "text": [
      "x : -1.2, y : -1.2, angle : 0.0\n",
      "trouvé !\n"
     ]
    },
    {
     "data": {
      "image/png": "[encoded data removed]",
      "text/plain": [
       "<Figure size 1080x1080 with 1 Axes>"
      ]
     },
     "metadata": {
      "needs_background": "light"
     },
     "output_type": "display_data"
    },
    {
     "name": "stdout",
     "output_type": "stream",
     "text": [
      "[('AVANCE', 0.25), ('AVANT_GAUCHE', 0.75), ('ARRIERE_DROIT', 0.5), ('RECULE', 0.25), ('ARRIERE_DROIT', 0.25), ('ARRIERE_GAUCHE', 0.75), ('RECULE', 0.25), ('ARRIERE_DROIT', 0.25), ('ARRIERE_GAUCHE', 0.5), ('AVANCE', 0.25)]\n",
      "x : -1.2, y : -1.2, angle : 45.0\n",
      "trouvé !\n"
     ]
    },
    {
     "data": {
      "image/png": "[encoded data removed]",
      "text/plain": [
       "<Figure size 1080x1080 with 1 Axes>"
      ]
     },
     "metadata": {
      "needs_background": "light"
     },
     "output_type": "display_data"
    },
    {
     "name": "stdout",
     "output_type": "stream",
     "text": [
      "[('AVANCE', 0.25), ('AVANT_GAUCHE', 0.25), ('ARRIERE_DROIT', 1.5), ('ARRIERE_GAUCHE', 0.25), ('RECULE', 0.25)]\n",
      "x : -1.2, y : -1.2, angle : 90.0\n",
      "trouvé !\n"
     ]
    },
    {
     "data": {
      "image/png": "[encoded data removed]",
      "text/plain": [
       "<Figure size 1080x1080 with 1 Axes>"
      ]
     },
     "metadata": {
      "needs_background": "light"
     },
     "output_type": "display_data"
    },
    {
     "name": "stdout",
     "output_type": "stream",
     "text": [
      "[('AVANCE', 0.25), ('AVANT_GAUCHE', 0.25), ('ARRIERE_DROIT', 0.5), ('AVANT_GAUCHE', 0.25), ('ARRIERE_DROIT', 0.25), ('ARRIERE_GAUCHE', 0.25), ('ARRIERE_DROIT', 0.5), ('RECULE', 0.25), ('ARRIERE_GAUCHE', 0.25), ('ARRIERE_DROIT', 0.5), ('AVANT_GAUCHE', 0.5), ('ARRIERE_DROIT', 0.25)]\n",
      "x : -1.2, y : -1.2, angle : 135.0\n",
      "trouvé !\n"
     ]
    },
    {
     "data": {
      "image/png": "[encoded data removed]",
      "text/plain": [
       "<Figure size 1080x1080 with 1 Axes>"
      ]
     },
     "metadata": {
      "needs_background": "light"
     },
     "output_type": "display_data"
    },
    {
     "name": "stdout",
     "output_type": "stream",
     "text": [
      "[('AVANT_GAUCHE', 0.25), ('ARRIERE_DROIT', 2.25), ('AVANT_GAUCHE', 0.5), ('ARRIERE_DROIT', 0.25), ('AVANT_GAUCHE', 0.25), ('ARRIERE_DROIT', 0.5), ('AVANCE', 0.25)]\n",
      "x : -1.2, y : -1.2, angle : 180.0\n"
     ]
    },
    {
     "ename": "KeyboardInterrupt",
     "evalue": "",
     "output_type": "error",
     "traceback": [
      "\u001b[1;31m---------------------------------------------------------------------------\u001b[0m",
      "\u001b[1;31mKeyboardInterrupt\u001b[0m                         Traceback (most recent call last)",
      "\u001b[1;32m<ipython-input-21-7a469028bdc8>\u001b[0m in \u001b[0;36m<module>\u001b[1;34m\u001b[0m\n\u001b[1;32m----> 1\u001b[1;33m \u001b[0mresumes1\u001b[0m \u001b[1;33m=\u001b[0m \u001b[0mgenererSolutionSurGrille\u001b[0m\u001b[1;33m(\u001b[0m\u001b[1;33m-\u001b[0m\u001b[1;36m1.2\u001b[0m\u001b[1;33m,\u001b[0m \u001b[1;36m1.2\u001b[0m\u001b[1;33m,\u001b[0m \u001b[1;33m-\u001b[0m\u001b[1;36m1.2\u001b[0m\u001b[1;33m,\u001b[0m \u001b[1;36m1.2\u001b[0m\u001b[1;33m,\u001b[0m \u001b[1;36m0.2\u001b[0m\u001b[1;33m,\u001b[0m \u001b[1;36m0.2\u001b[0m\u001b[1;33m,\u001b[0m \u001b[0mmath\u001b[0m\u001b[1;33m.\u001b[0m\u001b[0mpi\u001b[0m\u001b[1;33m/\u001b[0m \u001b[1;36m4\u001b[0m\u001b[1;33m)\u001b[0m\u001b[1;33m\u001b[0m\u001b[1;33m\u001b[0m\u001b[0m\n\u001b[0m\u001b[0;32m      2\u001b[0m \u001b[0mprint\u001b[0m\u001b[1;33m(\u001b[0m\u001b[0mresumes1\u001b[0m\u001b[1;33m)\u001b[0m\u001b[1;33m\u001b[0m\u001b[1;33m\u001b[0m\u001b[0m\n",
      "\u001b[1;32m<ipython-input-20-40e703e0242d>\u001b[0m in \u001b[0;36mgenererSolutionSurGrille\u001b[1;34m(xMin, xMax, yMin, yMax, pasX, pasY, pasAngle)\u001b[0m\n\u001b[0;32m     20\u001b[0m                     \u001b[0mtoleranceAngle\u001b[0m \u001b[1;33m=\u001b[0m \u001b[1;36m20\u001b[0m\u001b[1;33m/\u001b[0m\u001b[1;36m180\u001b[0m\u001b[1;33m*\u001b[0m\u001b[0mmath\u001b[0m\u001b[1;33m.\u001b[0m\u001b[0mpi\u001b[0m\u001b[1;33m,\u001b[0m\u001b[1;33m\u001b[0m\u001b[1;33m\u001b[0m\u001b[0m\n\u001b[0;32m     21\u001b[0m                     \u001b[0mlimite\u001b[0m \u001b[1;33m=\u001b[0m \u001b[1;36m3000\u001b[0m\u001b[1;33m,\u001b[0m\u001b[1;33m\u001b[0m\u001b[1;33m\u001b[0m\u001b[0m\n\u001b[1;32m---> 22\u001b[1;33m                     log = False)\n\u001b[0m\u001b[0;32m     23\u001b[0m                 \u001b[1;32mif\u001b[0m \u001b[0mresultat\u001b[0m \u001b[1;33m!=\u001b[0m \u001b[1;32mNone\u001b[0m\u001b[1;33m:\u001b[0m\u001b[1;33m\u001b[0m\u001b[1;33m\u001b[0m\u001b[0m\n\u001b[0;32m     24\u001b[0m                     \u001b[1;31m#print(\"affichage\")\u001b[0m\u001b[1;33m\u001b[0m\u001b[1;33m\u001b[0m\u001b[1;33m\u001b[0m\u001b[0m\n",
      "\u001b[1;32m<ipython-input-6-8d702d79d2ac>\u001b[0m in \u001b[0;36mchercherMeilleureManoeuvre\u001b[1;34m(butPointAngle, fonctionButAtteint, fonctionHeuristique, pas, rayonBraquage, toleranceXY, toleranceAngle, limite, log)\u001b[0m\n\u001b[0;32m    100\u001b[0m                     \u001b[0mmieuxAChercher\u001b[0m \u001b[1;33m=\u001b[0m \u001b[1;32mFalse\u001b[0m\u001b[1;33m\u001b[0m\u001b[1;33m\u001b[0m\u001b[0m\n\u001b[0;32m    101\u001b[0m                     \u001b[1;32mfor\u001b[0m \u001b[0maChercher\u001b[0m \u001b[1;32min\u001b[0m \u001b[0mpointsAChercher\u001b[0m\u001b[1;33m:\u001b[0m\u001b[1;33m\u001b[0m\u001b[1;33m\u001b[0m\u001b[0m\n\u001b[1;32m--> 102\u001b[1;33m                         \u001b[1;32mif\u001b[0m \u001b[0msuccesseur\u001b[0m\u001b[1;33m.\u001b[0m\u001b[0mtresProche\u001b[0m\u001b[1;33m(\u001b[0m\u001b[0maChercher\u001b[0m\u001b[1;33m)\u001b[0m \u001b[1;32mand\u001b[0m \u001b[0maChercher\u001b[0m\u001b[1;33m.\u001b[0m\u001b[0mdistanceParcourue\u001b[0m \u001b[1;33m<=\u001b[0m \u001b[0msuccesseur\u001b[0m\u001b[1;33m.\u001b[0m\u001b[0mdistanceParcourue\u001b[0m\u001b[1;33m:\u001b[0m\u001b[1;33m\u001b[0m\u001b[1;33m\u001b[0m\u001b[0m\n\u001b[0m\u001b[0;32m    103\u001b[0m                             \u001b[0mmieuxAChercher\u001b[0m \u001b[1;33m=\u001b[0m \u001b[1;32mTrue\u001b[0m\u001b[1;33m\u001b[0m\u001b[1;33m\u001b[0m\u001b[0m\n\u001b[0;32m    104\u001b[0m                             \u001b[1;32mbreak\u001b[0m\u001b[1;33m\u001b[0m\u001b[1;33m\u001b[0m\u001b[0m\n",
      "\u001b[1;32m<ipython-input-3-f285b9878f55>\u001b[0m in \u001b[0;36mtresProche\u001b[1;34m(self, p2)\u001b[0m\n\u001b[0;32m    122\u001b[0m         \u001b[1;32mreturn\u001b[0m \u001b[0mCOULEURS\u001b[0m\u001b[1;33m[\u001b[0m\u001b[0mself\u001b[0m\u001b[1;33m.\u001b[0m\u001b[0mcouleur\u001b[0m\u001b[1;33m]\u001b[0m\u001b[1;33m\u001b[0m\u001b[1;33m\u001b[0m\u001b[0m\n\u001b[0;32m    123\u001b[0m \u001b[1;33m\u001b[0m\u001b[0m\n\u001b[1;32m--> 124\u001b[1;33m     \u001b[1;32mdef\u001b[0m \u001b[0mtresProche\u001b[0m\u001b[1;33m(\u001b[0m\u001b[0mself\u001b[0m\u001b[1;33m,\u001b[0m \u001b[0mp2\u001b[0m\u001b[1;33m)\u001b[0m\u001b[1;33m:\u001b[0m\u001b[1;33m\u001b[0m\u001b[1;33m\u001b[0m\u001b[0m\n\u001b[0m\u001b[0;32m    125\u001b[0m         \u001b[1;32mreturn\u001b[0m \u001b[0mabs\u001b[0m\u001b[1;33m(\u001b[0m\u001b[0mself\u001b[0m\u001b[1;33m.\u001b[0m\u001b[0mx\u001b[0m \u001b[1;33m-\u001b[0m \u001b[0mp2\u001b[0m\u001b[1;33m.\u001b[0m\u001b[0mx\u001b[0m\u001b[1;33m)\u001b[0m \u001b[1;33m<\u001b[0m \u001b[0mepsilonMetres\u001b[0m \u001b[1;32mand\u001b[0m \u001b[0mabs\u001b[0m\u001b[1;33m(\u001b[0m\u001b[0mself\u001b[0m\u001b[1;33m.\u001b[0m\u001b[0my\u001b[0m \u001b[1;33m-\u001b[0m \u001b[0mp2\u001b[0m\u001b[1;33m.\u001b[0m\u001b[0my\u001b[0m\u001b[1;33m)\u001b[0m \u001b[1;33m<\u001b[0m \u001b[0mepsilonMetres\u001b[0m \u001b[1;32mand\u001b[0m \u001b[0mabs\u001b[0m\u001b[1;33m(\u001b[0m\u001b[0mself\u001b[0m\u001b[1;33m.\u001b[0m\u001b[0mangleRad\u001b[0m \u001b[1;33m-\u001b[0m \u001b[0mp2\u001b[0m\u001b[1;33m.\u001b[0m\u001b[0mangleRad\u001b[0m\u001b[1;33m)\u001b[0m \u001b[1;33m<\u001b[0m \u001b[0mepsilonRad\u001b[0m\u001b[1;33m\u001b[0m\u001b[1;33m\u001b[0m\u001b[0m\n\u001b[0;32m    126\u001b[0m \u001b[1;33m\u001b[0m\u001b[0m\n",
      "\u001b[1;31mKeyboardInterrupt\u001b[0m: "
     ]
    }
   ],
   "source": [
    "resumes1 = genererSolutionSurGrille(-1.2, 1.2, -1.2, 1.2, 0.2, 0.2, math.pi/ 4)\n",
    "print(resumes1)"
   ]
  },
  {
   "cell_type": "markdown",
   "metadata": {},
   "source": [
    "# Trouver des meilleurs heuristiques\n",
    "\n",
    "Mon estimation de la distance est pourrie parce que la distance devant/ derrière le robot est très facile à parcourir, alors que se déplacer\n",
    "sur sa droite / sur sa gauche de 40 centimètres par exemple va nécessiter des manoeuvres, donc beaucoup plus long\n",
    "\n",
    "Dejà, ce serait bien de savoir si on est dans une zone accessible directement ou non. Les zones inaccessibles directement sont dans des cercles de rayon de braquage situées à ma droite et à ma gauche. Zones 5,6,7,8 sont inaccessibles\n",
    "\n",
    "![alt text](zones.png \"Title\")\n",
    "\n",
    "Si l'objectif (point O) n'est pas dans ces cercles, alors je peux y aller en longeant un des cercles jusqu'à un point T où la droite OT est tangeante avec le cercle. La distance à parcourir est alors \\[OT\\] + l'arc de cercle pour aller en T.\n",
    "\n",
    "Si l'objectif est dans un cercle, alors soit il est plutôt devant moi, soit plutôt derrière moi."
   ]
  },
  {
   "cell_type": "code",
   "execution_count": 22,
   "metadata": {},
   "outputs": [],
   "source": [
    "def estAccessible(pointAngle, butPointAngle, rayonBraquage):\n",
    "    vecteurAngleDroite = pointAngle.vecteurAngleDroite()\n",
    "    xCentreDroit = pointAngle.x + rayonBraquage * vecteurAngleDroite[0]\n",
    "    yCentreDroit = pointAngle.y + rayonBraquage * vecteurAngleDroite[1]\n",
    "    \n",
    "    distanceCarreDroit = (pointAngle.x - xCentreDroit)**2 + (pointAngle.y - yCentreDroit)**2\n",
    "    \n",
    "    vecteurAngleGauche = pointAngle.vecteurAngleGauche()\n",
    "    xCentreGauche = pointAngle.x + rayonBraquage * vecteurAngleGauche[0]\n",
    "    yCentreGauche = pointAngle.y + rayonBraquage * vecteurAngleGauche[1]\n",
    "    \n",
    "    distanceCarreGauche = (pointAngle.x - xCentreGauche)**2 + (pointAngle.y - yCentreGauche)**2\n",
    "    \n",
    "    return distanceCarreDroit >= rayonBraquage**2 and distanceCarreGauche >= rayonBraquage ** 2"
   ]
  },
  {
   "cell_type": "markdown",
   "metadata": {},
   "source": [
    "# Changement de référentiel vers \"référentiel de braquage\"\n",
    "\n",
    "Quel que soit la zone où l'on est, ça va beaucoup faciliter la suite de se mettre dans un référentiel où :\n",
    "  - le robot est placé en (0,0) => translation par pointAngle\n",
    "  - le robot est orienté vers l'axe des x => rotation par pointAngle.angleRad\n",
    "  - les deux cercles de braquages sont de rayon 1 => on scale tout par rayon de braquage\n",
    "\n",
    "# Symétries\n",
    "Que l'on soit à gauche ou à droite, les opérations sont symétriques. De même, avant et arrière du robot sont symmétrique. On applique donc deux symmétries :\n",
    " - une symétrie axiale pour que le butPointAngle se retrouve toujours à gauche (désolé Xavier ;-) ) pour l'avoir dans les zones 1, 2, 5 ou6\n",
    " - une symétrie axiale pour que le butPointAngle se retrouve toujours devant le robot pour l'avoir dans les zones 2 et 6 uniquement\n",
    " \n",
    " On passe de 8 cas à 2 cas :\n",
    "  - zone 2 : butPointAngle accessible\n",
    "  - zone 6 : butPointAngle inaccessible\n",
    "  \n",
    "Mais vu que l'on cherche juste à calculer des distances ici, on n'aura pas besoin de faire la transformation dans l'ordre inverse (à part le scale des longueurs par rayon de braquage)"
   ]
  },
  {
   "cell_type": "code",
   "execution_count": 23,
   "metadata": {},
   "outputs": [],
   "source": [
    "def tranformeButVersRefBraquage(pointAngle, butPointAngle, rayonBraquage):\n",
    "    butPointAngleX = butPointAngle.x\n",
    "    butPointAngleY = butPointAngle.y\n",
    "    #translation\n",
    "    butPointAngleX -= pointAngle.x\n",
    "    butPointAngleY -= pointAngle.y\n",
    "    # scale\n",
    "    butPointAngleX /= rayonBraquage\n",
    "    butPointAngleY /= rayonBraquage\n",
    "    #rotation\n",
    "    butPointAngleAngle = butPointAngle.angleRad - pointAngle.angleRad\n",
    "    (butPointAngleX, butPointAngleY) = rotation(butPointAngleX, butPointAngleY, 0, 0, -pointAngle.angleRad)\n",
    "    # symétrie gauche droite et symétrie avant arriere =>\n",
    "    butPointAngleX = abs(butPointAngleX)\n",
    "    butPointAngleY = abs(butPointAngleY)\n",
    "    # butPointAngleAngle = butPointAngleAngle % (math.pi /2) # faux je pense. Les symétries en angle, pas important pour l'instant\n",
    "    return (butPointAngleX, butPointAngleY)"
   ]
  },
  {
   "cell_type": "code",
   "execution_count": 24,
   "metadata": {},
   "outputs": [
    {
     "name": "stdout",
     "output_type": "stream",
     "text": [
      "x : 0.5, y : 0.49999999999999994, angle : 0.0deg\n"
     ]
    },
    {
     "data": {
      "image/png": "[encoded data removed]",
      "text/plain": [
       "<Figure size 432x288 with 1 Axes>"
      ]
     },
     "metadata": {
      "needs_background": "light"
     },
     "output_type": "display_data"
    }
   ],
   "source": [
    "# test\n",
    "depart = PointAngle(0, 0, math.pi / 2,     0, None, STARTING)\n",
    "but = PointAngle(0.5, 0.5, 30/180*math.pi,            None, AVANCE) #bleu\n",
    "\n",
    "butRefBraquageXY = tranformeButVersRefBraquage(depart, but, 1)\n",
    "butRefBraquage = PointAngle(butRefBraquageXY[0], butRefBraquageXY[1], 0)\n",
    "butRefBraquage.couleur = RECULE\n",
    "print(butRefBraquage)\n",
    "# hack pour afficher\n",
    "depart.pere = but\n",
    "but.pere = butRefBraquage\n",
    "afficherResultat(depart, plusieurs = True)\n",
    "# test ok !"
   ]
  },
  {
   "cell_type": "markdown",
   "metadata": {},
   "source": [
    "# Si le point est à l'exterieur du cercle\n",
    "\n",
    "Addition de deux longueurs, une en arc de cercle et un segment :\n",
    "  - longueur arc de cercle = angle en radians car rayon 1\n",
    "  - longueur du segment trouvable avec pythagore\n",
    "\n",
    "![alt text](exterieur.png \"Title\")\n"
   ]
  },
  {
   "cell_type": "code",
   "execution_count": 25,
   "metadata": {},
   "outputs": [],
   "source": [
    "# \n",
    "\n",
    "def heuristiqueMeilleureDistance(pointAngle, butPointAngle, rayonBraquage, toleranceRad = 0):\n",
    "    (butX, butY) = tranformeButVersRefBraquage(pointAngle, butPointAngle, rayonBraquage)\n",
    "    # avec la projection, on n'a plus que le cercle à ma gauche, de centre 0,1\n",
    "    inaccessible = butX**2 + (butY - 1) **2 < 1 #pas besoin de racine, puisque rayon 1\n",
    "    \n",
    "    if inaccessible:\n",
    "        #print(\"inaccessible\")\n",
    "        #dans le cercle, on peut calculer les manoeuvres\n",
    "        distanceEstimee = distance(pointAngle, butPointAngle)\n",
    "    else:\n",
    "        #print(\"accessible\")\n",
    "        xL = butX\n",
    "        yL = butY - 1\n",
    "        longueurL = (xL**2 + yL **2) **0.5\n",
    "        longueurSegment = (longueurL**2 - 1)**0.5\n",
    "        #print(longueurSegment)\n",
    "\n",
    "        angleL = math.atan2(yL, xL)\n",
    "        angleTriangle = math.acos(1/longueurL)\n",
    "        angle = angleL - angleTriangle + (math.pi /2)\n",
    "        # correction scaling\n",
    "        distanceEstimee = (angle + longueurSegment)* rayonBraquage\n",
    "\n",
    "        #print(angle)\n",
    "    return max(heuristiqueAngle(pointAngle, butPointAngle, rayonBraquage) - toleranceRad,  distanceEstimee)"
   ]
  },
  {
   "cell_type": "code",
   "execution_count": 26,
   "metadata": {},
   "outputs": [
    {
     "ename": "NameError",
     "evalue": "name 'heuristiqueDistance' is not defined",
     "output_type": "error",
     "traceback": [
      "\u001b[1;31m---------------------------------------------------------------------------\u001b[0m",
      "\u001b[1;31mNameError\u001b[0m                                 Traceback (most recent call last)",
      "\u001b[1;32m<ipython-input-26-f0682c459ce0>\u001b[0m in \u001b[0;36m<module>\u001b[1;34m\u001b[0m\n\u001b[0;32m      1\u001b[0m \u001b[1;31m# test\u001b[0m\u001b[1;33m\u001b[0m\u001b[1;33m\u001b[0m\u001b[1;33m\u001b[0m\u001b[0m\n\u001b[1;32m----> 2\u001b[1;33m \u001b[0mresult\u001b[0m \u001b[1;33m=\u001b[0m \u001b[0mheuristiqueDistance\u001b[0m\u001b[1;33m(\u001b[0m\u001b[0mPointAngle\u001b[0m\u001b[1;33m(\u001b[0m\u001b[1;36m0\u001b[0m\u001b[1;33m,\u001b[0m \u001b[1;36m0\u001b[0m\u001b[1;33m,\u001b[0m \u001b[1;36m0\u001b[0m\u001b[1;33m)\u001b[0m\u001b[1;33m,\u001b[0m \u001b[0mPointAngle\u001b[0m\u001b[1;33m(\u001b[0m\u001b[1;36m0\u001b[0m\u001b[1;33m,\u001b[0m \u001b[1;36m3\u001b[0m\u001b[1;33m,\u001b[0m \u001b[1;36m0\u001b[0m\u001b[1;33m)\u001b[0m\u001b[1;33m,\u001b[0m \u001b[1;36m1\u001b[0m\u001b[1;33m)\u001b[0m\u001b[1;33m\u001b[0m\u001b[1;33m\u001b[0m\u001b[0m\n\u001b[0m\u001b[0;32m      3\u001b[0m \u001b[0mprint\u001b[0m\u001b[1;33m(\u001b[0m\u001b[0mresult\u001b[0m\u001b[1;33m)\u001b[0m\u001b[1;33m\u001b[0m\u001b[1;33m\u001b[0m\u001b[0m\n",
      "\u001b[1;31mNameError\u001b[0m: name 'heuristiqueDistance' is not defined"
     ]
    }
   ],
   "source": [
    "# test\n",
    "result = heuristiqueDistance(PointAngle(0, 0, 0), PointAngle(0, 3, 0), 1)\n",
    "print(result)"
   ]
  },
  {
   "cell_type": "code",
   "execution_count": 132,
   "metadata": {},
   "outputs": [
    {
     "name": "stdout",
     "output_type": "stream",
     "text": [
      "trouvé !\n",
      "208\n",
      "0.21612167358398438\n",
      "temps par iteration 1.039046457661153 ms\n",
      "0.1627519130706787\n",
      "x : 0.4434386189461381, y : 1.1128019867339924, angle : 18.093404056762836deg\n"
     ]
    },
    {
     "data": {
      "application/vnd.jupyter.widget-view+json": {
       "model_id": "8804aaffe0f0469ca328fff353c52c80",
       "version_major": 2,
       "version_minor": 0
      },
      "text/plain": [
       "Canvas(toolbar=Toolbar(toolitems=[('Home', 'Reset original view', 'home', 'home'), ('Back', 'Back to previous …"
      ]
     },
     "metadata": {},
     "output_type": "display_data"
    },
    {
     "data": {
      "image/png": "[encoded data removed]",
      "text/plain": [
       "<Figure size 1080x1080 with 1 Axes>"
      ]
     },
     "metadata": {
      "needs_background": "light"
     },
     "output_type": "display_data"
    }
   ],
   "source": [
    "debut = time.time()\n",
    "(resultat, nombre_iterations, pointsAChercher, pointsDejaCherchés, temps) = chercherMeilleureManoeuvre(PointAngle(0.5, 1.2, 0),\n",
    "                               fonctionButAtteint = butAtteint,\n",
    "                               fonctionHeuristique = heuristiqueMeilleureDistanceInaccessible, # heuristiqueMeilleureDistanceInaccessible heuristiqueMeilleureDistance\n",
    "                               pas = 0.3,\n",
    "                               rayonBraquage = 1.90,\n",
    "                               toleranceXY = pas * 1.2,\n",
    "                               toleranceAngle = 20/180*math.pi,\n",
    "                               limite = 20000,\n",
    "                               log = False)\n",
    "fin = time.time()\n",
    "\n",
    "# 1264 vs. 1961 vs. 8274\n",
    "# 1946 vs. 8024 => /4\n",
    "\n",
    "# 1547 ancien 1545 nouveau :-/ bof quoi\n",
    "# nouveau : 709 ancien : 216\n",
    "print(nombre_iterations)\n",
    "print( fin -debut)\n",
    "print(\"temps par iteration \" + str(  (fin - debut) / (nombre_iterations+0.00001) * 1000) + \" ms\")\n",
    "print(temps)\n",
    "if resultat != None:\n",
    "    print(resultat)\n",
    "    afficherResultat(resultat)\n",
    "else:\n",
    "    plt.figure(figsize=(10,10))\n",
    "    plt.gca().set_aspect('equal', adjustable='box')\n",
    "    for pa in pointsDejaCherchés:\n",
    "        afficherResultat(pa, plusieurs = True)"
   ]
  },
  {
   "cell_type": "markdown",
   "metadata": {},
   "source": [
    "# Conclusion heuristique meilleure distance\n",
    "\n",
    "ça change très peu la rapidité :-/"
   ]
  },
  {
   "cell_type": "code",
   "execution_count": 1,
   "metadata": {},
   "outputs": [
    {
     "data": {
      "text/html": [
       "\n",
       "        <iframe\n",
       "            width=\"100%\"\n",
       "            height=\"1000px\"\n",
       "            src=\"https://www.geogebra.org/m/afju5h2r\"\n",
       "            frameborder=\"0\"\n",
       "            allowfullscreen\n",
       "        ></iframe>\n",
       "        "
      ],
      "text/plain": [
       "<IPython.lib.display.IFrame at 0x1be7f0ba208>"
      ]
     },
     "execution_count": 1,
     "metadata": {},
     "output_type": "execute_result"
    }
   ],
   "source": [
    "import IPython\n",
    "IPython.display.IFrame(\"https://www.geogebra.org/m/afju5h2r\", width = \"100%\", height=\"1000px\")"
   ]
  },
  {
   "cell_type": "markdown",
   "metadata": {},
   "source": [
    "# Heuristique meilleure distance inaccessible !"
   ]
  },
  {
   "cell_type": "code",
   "execution_count": 140,
   "metadata": {},
   "outputs": [],
   "source": [
    "def heuristiqueMeilleureDistanceInaccessible(pointAngle, butPointAngle, rayonBraquage, toleranceAngle = 0):\n",
    "    (butX, butY) = tranformeButVersRefBraquage(pointAngle, butPointAngle, rayonBraquage)\n",
    "    # avec la projection, on n'a plus que le cercle à ma gauche, de centre 0,1\n",
    "    inaccessible = butX**2 + (butY - 1) **2 < 1 #pas besoin de racine, puisque rayon 1. Marche pareil avec \"<=\". Fonction continue sur le cercle (donc aussi partout)\n",
    "    \n",
    "    if inaccessible:\n",
    "        #dans le cercle, on peut calculer les manoeuvres.\n",
    "        #addition d'une manoeuvre où on recule, une où on avance. dist1, dist2\n",
    "        # on utilise forcément le côté \"vert\", donc une rotation\n",
    "        #C => centre du cercle du bas, (0, -1)\n",
    "        # l = vecteur C => But\n",
    "        lX = butX\n",
    "        lY = butY + 1\n",
    "        l = (lX**2 + lY**2)**0.5\n",
    "        angleL = math.atan2(lY, lX) - math.pi/2.0 # because reference is y axis, not x axis\n",
    "        \n",
    "        # al kashi : c² = b² + a² - 2ab*gamma (gamma1 = angle F-C-But)\n",
    "        # => gamma1 = acos( (a²+b²-c²)/2ab)\n",
    "        # or b = 2, a = 1, c = l\n",
    "        # on obtient gamma1 = acos( (l²+3)/4l)\n",
    "        gamma1 = math.acos( (l**2 + 3.0) / (4*l))\n",
    "        dist1 = gamma1 + angleL\n",
    "        #on réapplique Al kashi avec l'autre angle\n",
    "        # a=1, b = 2, c=l, on obtient\n",
    "        # acos( (5-l²) / 4)\n",
    "        gamma2 = math.acos( (5 - l**2) / 4)\n",
    "        distanceTotale =  dist1 + gamma2\n",
    "    else:\n",
    "        #print(\"accessible\")\n",
    "        xL = butX\n",
    "        yL = butY - 1\n",
    "        longueurL = (xL**2 + yL **2) **0.5\n",
    "        longueurSegment = (longueurL**2 - 1)**0.5\n",
    "        #print(longueurSegment)\n",
    "\n",
    "        angleL = math.atan2(yL, xL)\n",
    "        angleTriangle = math.acos(1/longueurL)\n",
    "        angle = angleL - angleTriangle + (math.pi /2)\n",
    "        # correction scaling\n",
    "        distanceTotale = angle + longueurSegment\n",
    "\n",
    "        #print(angle)\n",
    "    distanceTotale *= rayonBraquage # transformation inverse\n",
    "    return max(heuristiqueAngle(pointAngle, butPointAngle, rayonBraquage) - toleranceAngle,  distanceTotale)"
   ]
  },
  {
   "cell_type": "code",
   "execution_count": 105,
   "metadata": {},
   "outputs": [
    {
     "name": "stdout",
     "output_type": "stream",
     "text": [
      "test l = 2 : True\n",
      "test l = 3 : True\n",
      "test l = 1 : True\n"
     ]
    }
   ],
   "source": [
    "# test\n",
    "print( 'test l = 2 : ' + str(heuristiqueMeilleureDistanceInaccessible(PointAngle(0,0,0), PointAngle(0,1,0), 1) == math.acos(7/8) + math.acos(1/4) ))\n",
    "print( 'test l = 3 : ' + str(heuristiqueMeilleureDistanceInaccessible(PointAngle(0,0,0), PointAngle(0,2,0), 1) == math.acos(-1) + math.acos(1) ))\n",
    "print( 'test l = 1 : ' + str(heuristiqueMeilleureDistanceInaccessible(PointAngle(0,0,0), PointAngle(0,0,0), 1) == 0 ))"
   ]
  },
  {
   "cell_type": "markdown",
   "metadata": {},
   "source": [
    "# Conclusion heuristique meilleure distance inaccessible\n",
    "\n",
    "Conclusion : c'est beaucoup mieux avec cette distance aussi !"
   ]
  },
  {
   "cell_type": "markdown",
   "metadata": {},
   "source": [
    "# Visualisation de la fonction de distance\n",
    "Où puis-je aller avec seulement un mètre parcouru ?"
   ]
  },
  {
   "cell_type": "code",
   "execution_count": 141,
   "metadata": {},
   "outputs": [
    {
     "data": {
      "application/vnd.jupyter.widget-view+json": {
       "model_id": "96615a600ed74226af0a08b859ae2c0c",
       "version_major": 2,
       "version_minor": 0
      },
      "text/plain": [
       "Canvas(toolbar=Toolbar(toolitems=[('Home', 'Reset original view', 'home', 'home'), ('Back', 'Back to previous …"
      ]
     },
     "metadata": {},
     "output_type": "display_data"
    },
    {
     "data": {
      "application/vnd.jupyter.widget-view+json": {
       "model_id": "25e6f212ea64480e9511810aa3e1ebb1",
       "version_major": 2,
       "version_minor": 0
      },
      "text/plain": [
       "Canvas(toolbar=Toolbar(toolitems=[('Home', 'Reset original view', 'home', 'home'), ('Back', 'Back to previous …"
      ]
     },
     "metadata": {},
     "output_type": "display_data"
    }
   ],
   "source": [
    "%matplotlib widget\n",
    "import ipympl\n",
    "\n",
    "from mpl_toolkits import mplot3d\n",
    "\n",
    "def visualiserDistance():\n",
    "    start = -5\n",
    "    end = 5\n",
    "    num = 80\n",
    "    x = np.linspace(start, end, num)\n",
    "    y = np.linspace(start, end, num)\n",
    "    X, Y = np.meshgrid(x, y)\n",
    "    def dist(x,y):\n",
    "        return heuristiqueMeilleureDistanceInaccessible(PointAngle(0,0,0), PointAngle(x,y,0), 1.90)\n",
    "    Z = np.array([ [dist(x,y) for y in np.linspace(start, end, num)] for x in np.linspace(start, end, num)])\n",
    "    fig = plt.figure(figsize=(10,10) )\n",
    "    ax = plt.axes(projection=\"3d\")\n",
    "    ax.plot_wireframe(X, Y, Z, color='green')\n",
    "    ax.set_xlabel('x')\n",
    "    ax.set_ylabel('y')\n",
    "    ax.set_zlabel('z')\n",
    "    \n",
    "    ax = plt.axes(projection='3d')\n",
    "    ax.plot_surface(X, Y, Z, rstride=1, cstride=1,\n",
    "                    cmap='rainbow', edgecolor='none')\n",
    "    ax.set_title('surface');\n",
    "    plt.show()\n",
    "\n",
    "def visualiserDistanceNormalisée():\n",
    "    start = -5\n",
    "    end = 5\n",
    "    num = 80\n",
    "    x = np.linspace(start, end, num)\n",
    "    y = np.linspace(start, end, num)\n",
    "    X, Y = np.meshgrid(x, y)\n",
    "    def dist(x,y):\n",
    "        return heuristiqueMeilleureDistanceInaccessible(PointAngle(0,0,0), PointAngle(x,y,0), 1.90) / ( (x**2 + y**2)**0.5 )\n",
    "    Z = np.array([ [dist(x,y) for y in np.linspace(start, end, num)] for x in np.linspace(start, end, num)])\n",
    "    fig = plt.figure(figsize=(10,10) )\n",
    "    ax = plt.axes(projection=\"3d\")\n",
    "    ax.plot_wireframe(X, Y, Z, color='green')\n",
    "    ax.set_xlabel('x')\n",
    "    ax.set_ylabel('y')\n",
    "    ax.set_zlabel('z')\n",
    "    \n",
    "    ax = plt.axes(projection='3d')\n",
    "    ax.plot_surface(X, Y, Z, rstride=1, cstride=1,\n",
    "                    cmap='rainbow', edgecolor='none')\n",
    "    ax.set_title('surface');\n",
    "    plt.show()\n",
    "visualiserDistance()\n",
    "visualiserDistanceNormalisée()"
   ]
  },
  {
   "cell_type": "code",
   "execution_count": null,
   "metadata": {},
   "outputs": [],
   "source": []
  },
  {
   "cell_type": "markdown",
   "metadata": {},
   "source": [
    "# La même chose en C++ pour aller plus vite ?\n",
    "\n",
    "Fait, et... ça change pas grand chose, fais chier putain !\n",
    "L'optimalité n'est pas nécessaire, donc un truc appris dans un modèle théorique pourrait être très bien !\n",
    "Un genre de Q-Learning mais sur le vrai terrain. A tester d'abord sur une simulation. Et j'ai jamais fait ça, à part pour le pac-man, donc...\n",
    "A faire directement en C++, parce que changer de langage c'est une plaie.\n",
    "\n",
    "MAIS je pourrais d'abord faire cette fonction de distance à un point en prenant en compte les manoeuvre, parce queuh je peux. Et que Xavier a envie d'abord la version ENCORE-PLUS-HARDCORE OU ON ARRIVE AVEC UN ANGLE. donc d'abord ça, ce sera pas mal.\n"
   ]
  },
  {
   "cell_type": "markdown",
   "metadata": {},
   "source": []
  },
  {
   "cell_type": "markdown",
   "metadata": {},
   "source": [
    "# Fonction qui donne comment aller à un point en deux mouvements"
   ]
  },
  {
   "cell_type": "code",
   "execution_count": 188,
   "metadata": {},
   "outputs": [
    {
     "name": "stdout",
     "output_type": "stream",
     "text": [
      "[(4, 1), (-4, 1), (4, -1), (-4, -1), (0.1, 0.5), (-0.1, 0.5), (0.1, -0.5), (-0.1, -0.5)]\n",
      "----------------\n",
      "(4, 1)\n",
      "accessible\n",
      "ok objectif \n",
      "ok angle \n",
      "---------- arriere\n",
      "(4, 1)\n",
      "accessible\n",
      "ok objectif \n",
      "ok angle \n",
      "----------------\n",
      "(-4, 1)\n",
      "accessible\n",
      "ok objectif \n",
      "ok angle \n",
      "---------- arriere\n",
      "(-4, 1)\n",
      "accessible\n",
      "ok objectif \n",
      "ok angle \n",
      "----------------\n",
      "(4, -1)\n",
      "accessible\n",
      "ok objectif \n",
      "ok angle \n",
      "---------- arriere\n",
      "(4, -1)\n",
      "accessible\n",
      "ok objectif \n",
      "ok angle \n",
      "----------------\n",
      "(-4, -1)\n",
      "accessible\n",
      "ok objectif \n",
      "ok angle \n",
      "---------- arriere\n",
      "(-4, -1)\n",
      "accessible\n",
      "ok objectif \n",
      "ok angle \n",
      "----------------\n",
      "(0.1, 0.5)\n",
      "inaccessible\n",
      "ok objectif \n",
      "ok angle \n",
      "---------- arriere\n",
      "(0.1, 0.5)\n",
      "inaccessible\n",
      "ok objectif \n",
      "ok angle \n",
      "----------------\n",
      "(-0.1, 0.5)\n",
      "inaccessible\n",
      "ok objectif \n",
      "ok angle \n",
      "---------- arriere\n",
      "(-0.1, 0.5)\n",
      "inaccessible\n",
      "ok objectif \n",
      "ok angle \n",
      "----------------\n",
      "(0.1, -0.5)\n",
      "inaccessible\n",
      "ok objectif \n",
      "ok angle \n",
      "---------- arriere\n",
      "(0.1, -0.5)\n",
      "inaccessible\n",
      "ok objectif \n",
      "ok angle \n",
      "----------------\n",
      "(-0.1, -0.5)\n",
      "inaccessible\n",
      "ok objectif \n",
      "ok angle \n",
      "---------- arriere\n",
      "(-0.1, -0.5)\n",
      "inaccessible\n",
      "ok objectif \n",
      "ok angle \n"
     ]
    }
   ],
   "source": [
    "def tranformeButVersRefBraquageSansSymetrie(pointAngle, butPointAngle, rayonBraquage):\n",
    "    butPointAngleX = butPointAngle.x\n",
    "    butPointAngleY = butPointAngle.y\n",
    "    #translation\n",
    "    butPointAngleX -= pointAngle.x\n",
    "    butPointAngleY -= pointAngle.y\n",
    "    # scale\n",
    "    butPointAngleX /= rayonBraquage\n",
    "    butPointAngleY /= rayonBraquage\n",
    "    #rotation\n",
    "    butPointAngleAngle = butPointAngle.angleRad - pointAngle.angleRad\n",
    "    (butPointAngleX, butPointAngleY) = rotation(butPointAngleX, butPointAngleY, 0, 0, -pointAngle.angleRad)\n",
    "    # symétrie gauche droite et symétrie avant arriere =>\n",
    "    \n",
    "    #butPointAngleX = abs(butPointAngleX)\n",
    "    #butPointAngleY = abs(butPointAngleY)\n",
    "    \n",
    "    # butPointAngleAngle = butPointAngleAngle % (math.pi /2) # faux je pense. Les symétries en angle, pas important pour l'instant\n",
    "    return (butPointAngleX, butPointAngleY)\n",
    "\n",
    "\n",
    "\n",
    "def chercherMeilleureManoeuvreSansAngle(pointAngle, butPointAngle, rayonBraquage, prefererArriere = False):\n",
    "    (butX, butY) = tranformeButVersRefBraquageSansSymetrie(pointAngle, butPointAngle, rayonBraquage)\n",
    "    \n",
    "    # avec la projection, on n'a plus que le cercle à ma gauche, de centre 0,1\n",
    "    inaccessible = butX**2 + (abs(butY) - 1) **2 < 1 #pas besoin de racine, puisque rayon 1. Marche pareil avec \"<=\". Fonction continue sur le cercle (donc aussi partout)\n",
    "    \n",
    "    dist1 = 0\n",
    "    dist2 = 0\n",
    "    mouvement1 = STARTING\n",
    "    mouvement2 = STARTING\n",
    "    angleArrivee = 0\n",
    "    \n",
    "    symetrieX = butX < 0\n",
    "    symetrieY = butY < 0\n",
    "    \n",
    "    if inaccessible:\n",
    "        if butY < 0:\n",
    "            if butX < 0 and not prefererArriere :\n",
    "                mouvement1 = AVANT_GAUCHE\n",
    "                mouvement2 = ARRIERE_DROIT\n",
    "            else:\n",
    "                mouvement1 = ARRIERE_GAUCHE\n",
    "                mouvement2 = AVANT_DROIT\n",
    "        else:\n",
    "            if butX < 0 and not prefererArriere :\n",
    "                mouvement1 = AVANT_DROIT\n",
    "                mouvement2 = ARRIERE_GAUCHE\n",
    "            else:\n",
    "                mouvement1 = ARRIERE_DROIT\n",
    "                mouvement2 = AVANT_GAUCHE\n",
    "    else:\n",
    "        if butX < 0:\n",
    "            if butY < 0:\n",
    "                mouvement1 = ARRIERE_DROIT\n",
    "            else:\n",
    "                mouvement1 = ARRIERE_GAUCHE\n",
    "            mouvement2 = RECULE\n",
    "        else:\n",
    "            if butY < 0:\n",
    "                mouvement1 = AVANT_DROIT\n",
    "            else:\n",
    "                mouvement1 = AVANT_GAUCHE\n",
    "            mouvement2 = AVANCE\n",
    "\n",
    "            \n",
    "    butY = abs(butY)\n",
    "    if not inaccessible or not prefererArriere:\n",
    "        butX = abs(butX)\n",
    "    \n",
    "    if inaccessible:\n",
    "        print(\"inaccessible\")\n",
    "        #dans le cercle, on peut calculer les manoeuvres.\n",
    "        #addition d'une manoeuvre où on recule, une où on avance. dist1, dist2\n",
    "        # on utilise forcément le côté \"vert\", donc une rotation\n",
    "        #C => centre du cercle du bas, (0, -1)\n",
    "        # l = vecteur C => But\n",
    "        lX = butX\n",
    "        lY = butY + 1\n",
    "        l = (lX**2 + lY**2)**0.5\n",
    "        \n",
    "       \n",
    "        angleL = math.atan2(lY, lX) - math.pi/2.0 # because reference is y axis, not x axis\n",
    "        \n",
    "        # al kashi : c² = b² + a² - 2ab*gamma (gamma1 = angle F-C-But)\n",
    "        # => gamma1 = acos( (a²+b²-c²)/2ab)\n",
    "        # or b = 2, a = 1, c = l\n",
    "        # on obtient gamma1 = acos( (l²+3)/4l)\n",
    "        gamma1 = math.acos( (l**2 + 3.0) / (4*l))\n",
    "        dist1 = gamma1 + angleL\n",
    "        #on réapplique Al kashi avec l'autre angle\n",
    "        # a=1, b = 2, c=l, on obtient\n",
    "        # acos( (5-l²) / 4)\n",
    "        gamma2 = math.acos( (5 - l**2) / 4)\n",
    "        dist2 = gamma2\n",
    "        \n",
    "        angleArrivee = gamma1 + gamma2 + angleL\n",
    "    else:\n",
    "        print(\"accessible\")\n",
    "        \n",
    "        xL = butX\n",
    "        yL = butY - 1\n",
    "        longueurL = (xL**2 + yL **2) **0.5\n",
    "        longueurSegment = (longueurL**2 - 1)**0.5\n",
    "        #print(longueurSegment)\n",
    "\n",
    "        angleL = math.atan2(yL, xL)\n",
    "        \n",
    "        angleTriangle = math.acos(1/longueurL)\n",
    "        angle = angleL - angleTriangle + (math.pi /2)\n",
    "\n",
    "        dist1 = angle\n",
    "        dist2 = longueurSegment\n",
    "        angleArrivee = angle\n",
    "        #print(angle)\n",
    "    dist1 *= rayonBraquage # transformation inverse\n",
    "    dist2 *= rayonBraquage\n",
    "    #symetries\n",
    "    if symetrieY:\n",
    "        angleArrivee = -angleArrivee\n",
    "\n",
    "    if symetrieX and not (inaccessible and prefererArriere):\n",
    "        angleArrivee = -angleArrivee\n",
    "    \n",
    "    return ( (mouvement1, dist1), (mouvement2, dist2), angleArrivee )\n",
    "\n",
    "\n",
    "def appliquer(res, objectif, rayonBraquage):\n",
    "    pa1 = PointAngle(0,0,0).bouge(res[0][0], res[0][1], rayonBraquage)\n",
    "    pa2 = pa1.bouge(res[1][0], res[1][1], rayonBraquage)\n",
    "    epsilon = 0.000001\n",
    "    if abs(pa2.x - objectif[0]) < epsilon and abs(pa2.y - objectif[1]) < epsilon:\n",
    "        print(\"ok objectif \")\n",
    "    else:\n",
    "        print(\"FAIL\")\n",
    "        print(pa2)\n",
    "        print(objectif)\n",
    "    if abs(pa2.angleRad - res[2]) < epsilon:\n",
    "        print(\"ok angle \")\n",
    "    else:\n",
    "        print(\"FAIL ANGLE\")\n",
    "        print(pa2.angleRad)\n",
    "        print(res[2])\n",
    "    #afficherResultat(pa2)\n",
    "    plt.show()\n",
    "    return (pa2.x, pa2.y)\n",
    "\n",
    "def testMeilleureManoeuvreSansAngle():\n",
    "    rayonBraquage = 1.90\n",
    "    accessibles = [(4,1), (-4,1), (4, -1), (-4, -1)]\n",
    "    inaccessibles = [(0.1, 0.5), (-0.1, 0.5), (0.1, -0.5), (-0.1, -0.5) ]\n",
    "    tous = accessibles + inaccessibles\n",
    "    print(tous)\n",
    "    \n",
    "    for objectif in tous:\n",
    "        print(\"----------------\")\n",
    "        print(objectif)\n",
    "        res = chercherMeilleureManoeuvreSansAngle(PointAngle(0,0,0), PointAngle(objectif[0], objectif[1], 0), rayonBraquage, False)\n",
    "        appliquer(res, objectif, rayonBraquage)\n",
    "        \n",
    "        print(\"---------- arriere\")\n",
    "        print(objectif)\n",
    "        res = chercherMeilleureManoeuvreSansAngle(PointAngle(0,0,0), PointAngle(objectif[0], objectif[1], 0), rayonBraquage, True)\n",
    "        appliquer(res, objectif, rayonBraquage)\n",
    "\n",
    "testMeilleureManoeuvreSansAngle()"
   ]
  },
  {
   "cell_type": "code",
   "execution_count": null,
   "metadata": {},
   "outputs": [],
   "source": []
  }
 ],
 "metadata": {
  "kernelspec": {
   "display_name": "Python 3",
   "language": "python",
   "name": "python3"
  },
  "language_info": {
   "codemirror_mode": {
    "name": "ipython",
    "version": 3
   },
   "file_extension": ".py",
   "mimetype": "text/x-python",
   "name": "python",
   "nbconvert_exporter": "python",
   "pygments_lexer": "ipython3",
   "version": "3.7.4"
  }
 },
 "nbformat": 4,
 "nbformat_minor": 4
}
